{
 "cells": [
  {
   "cell_type": "markdown",
   "metadata": {},
   "source": [
    "### Data Analyst Python Interview Questions"
   ]
  },
  {
   "cell_type": "code",
   "execution_count": null,
   "metadata": {},
   "outputs": [],
   "source": [
    "import numpy as np\n",
    "import pandas as pd\n",
    "import matplotlib.pyplot as plt\n",
    "import seaborn as sns\n",
    "import os\n",
    "import sys"
   ]
  },
  {
   "cell_type": "code",
   "execution_count": null,
   "metadata": {},
   "outputs": [],
   "source": []
  },
  {
   "cell_type": "markdown",
   "metadata": {},
   "source": [
    "**Sample Technical Questions:**\n",
    "   - **SQL:** Write a query to find the top 5 customers by total sales.\n",
    "   - **Python:** Write a function to calculate the moving average of a list of numbers.\n",
    "   - **Data Analysis:** Given a dataset, describe how you would clean and analyze the data to find insights."
   ]
  },
  {
   "cell_type": "markdown",
   "metadata": {},
   "source": [
    "### 1. Basic Python\n",
    "#### Q1: Write a function that checks if a given string is a palindrome."
   ]
  },
  {
   "cell_type": "code",
   "execution_count": null,
   "metadata": {},
   "outputs": [],
   "source": [
    "def check_pal(str):\n",
    "    str = str.lower().replace(\" \", \"\")\n",
    "    return str == str[::-1]\n",
    "\n",
    "a = \"racecar\"\n",
    "b = \"hello\"\n",
    "b = \"The eht\"\n",
    "print(check_pal(a))\n",
    "print(check_pal(b))"
   ]
  },
  {
   "cell_type": "markdown",
   "metadata": {},
   "source": [
    "#### Q2: Given a list of numbers, return a new list containing only the even numbers."
   ]
  },
  {
   "cell_type": "code",
   "execution_count": null,
   "metadata": {},
   "outputs": [],
   "source": [
    "def is_even(list):\n",
    "    return [x for x in list if x % 2 == 0]\n",
    "\n",
    "A = [1, 2, 3, 4, 5, 6, 7, 8, 9, 10]\n",
    "print(is_even(A))"
   ]
  },
  {
   "cell_type": "markdown",
   "metadata": {},
   "source": [
    "### Q3: Swap two variables without using a third variable."
   ]
  },
  {
   "cell_type": "code",
   "execution_count": null,
   "metadata": {},
   "outputs": [],
   "source": [
    "a = \"ciao\"\n",
    "b = \"bello\"\n",
    "a,b = b,a\n",
    "print(a,b)"
   ]
  },
  {
   "cell_type": "markdown",
   "metadata": {},
   "source": [
    "## 2. Data Structures\n",
    "### Q4: Given a list of integers, find the two numbers that add up to a given target."
   ]
  },
  {
   "cell_type": "code",
   "execution_count": null,
   "metadata": {},
   "outputs": [],
   "source": [
    "def add_target(list,target):\n",
    "    for i in range(len(list)):\n",
    "        for j in range(len(list-i)):\n",
    "            if list[i] + list[j] == target:\n",
    "                return [i,j]\n",
    "    return None\n",
    "\n",
    "a = [1,2,3,4,5,6,7,8,9]\n",
    "target = 10\n",
    "add_target(a,target)\n"
   ]
  },
  {
   "cell_type": "markdown",
   "metadata": {},
   "source": [
    "\n",
    "### Q5: Count the occurrences of each character in a given string using a dictionary."
   ]
  },
  {
   "cell_type": "code",
   "execution_count": null,
   "metadata": {},
   "outputs": [],
   "source": [
    "dic = [\"a\", \"b\", \"c\", \"d\", \"e\", \"f\", \"g\", \"h\", \"i\", \"j\", \"k\", \"l\", \"m\", \"n\", \"o\", \"p\", \"q\", \"r\", \"s\", \"t\", \"u\", \"v\", \"w\", \"x\", \"y\", \"z\"]\n",
    "def occurence(s):\n",
    "    "
   ]
  },
  {
   "cell_type": "markdown",
   "metadata": {},
   "source": [
    "###### Q6: Remove duplicates from a list while maintaining order.\n",
    "#####\n",
    "###### 3. Pandas & NumPy\n",
    "###### Q7: Load a CSV file into a Pandas DataFrame and display the first five rows.\n",
    "#####\n",
    "###### Q8: Given a DataFrame with missing values, fill them with the column mean.\n",
    "#####\n",
    "###### Q9: Write a function to normalize a NumPy array between 0 and 1.\n",
    "#####\n",
    "###### 4. SQL-like operations with Pandas\n",
    "###### Q10: Given a DataFrame `df`, select rows where the column `sales` is greater than 1000.\n",
    "#####\n",
    "###### Q11: Perform an inner join between two DataFrames on a common column.\n",
    "#####\n",
    "###### Q12: Group a DataFrame by a column and calculate the sum of another column.\n",
    "#####\n",
    "###### 5. Data Visualization\n",
    "###### Q13: Plot a histogram of a given numerical column using Matplotlib.\n",
    "#####\n",
    "###### Q14: Create a scatter plot using Seaborn for two numerical columns.\n",
    "#####\n",
    "###### Q15: Generate a box plot to visualize the distribution of a numerical column.\n",
    "#####\n",
    "###### 6. Algorithms & Problem-Solving\n",
    "###### Q16: Implement a function to find the factorial of a number using recursion.\n",
    "#####\n",
    "###### Q17: Reverse a linked list (assuming a linked list class is defined).\n",
    "#####\n",
    "###### Q18: Write a function that sorts a list using the quicksort algorithm.\n",
    "#####\n",
    "\n",
    "\n"
   ]
  },
  {
   "cell_type": "markdown",
   "metadata": {},
   "source": [
    "## 7. Bonus Questions"
   ]
  },
  {
   "cell_type": "markdown",
   "metadata": {},
   "source": [
    "#### Q19: Write a Python script to scrape the title and price of products from an e-commerce webpage."
   ]
  },
  {
   "cell_type": "markdown",
   "metadata": {},
   "source": [
    "#### Q20: Implement a simple Flask API that returns JSON data."
   ]
  }
 ],
 "metadata": {
  "language_info": {
   "name": "python"
  }
 },
 "nbformat": 4,
 "nbformat_minor": 2
}
