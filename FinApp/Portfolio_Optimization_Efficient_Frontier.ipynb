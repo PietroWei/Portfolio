{
 "cells": [
  {
   "cell_type": "markdown",
   "metadata": {},
   "source": [
    "# Notebook 1: Portfolio Optimization and Efficient Frontier\n",
    "\n",
    "## Introduction\n",
    "\n",
    "In this notebook, we will explore **Modern Portfolio Theory (MPT)** and construct the **Efficient Frontier**. The Efficient Frontier represents the set of optimal portfolios that offer the highest expected return for a given level of risk. By the end of this notebook, you will:\n",
    "\n",
    "1. Load historical returns for multiple assets.\n",
    "2. Compute the **covariance matrix** and **annualized returns**.\n",
    "3. Construct the **Efficient Frontier**.\n",
    "4. Identify the **Minimum Variance Portfolio (MVP)** and the **Maximum Sharpe Ratio Portfolio (MSR)**.\n",
    "5. Compare the performance of different portfolios.\n",
    "\n",
    "This notebook uses Python libraries such as `pandas`, `numpy`, and `matplotlib` for data analysis and visualization."
   ]
  },
  {
   "cell_type": "code",
   "execution_count": null,
   "metadata": {},
   "outputs": [
    {
     "ename": "ModuleNotFoundError",
     "evalue": "No module named 'statsmodels'",
     "output_type": "error",
     "traceback": [
      "\u001b[1;31m---------------------------------------------------------------------------\u001b[0m",
      "\u001b[1;31mModuleNotFoundError\u001b[0m                       Traceback (most recent call last)",
      "Input \u001b[1;32mIn [3]\u001b[0m, in \u001b[0;36m<cell line: 5>\u001b[1;34m()\u001b[0m\n\u001b[0;32m      3\u001b[0m \u001b[38;5;28;01mimport\u001b[39;00m \u001b[38;5;21;01mnumpy\u001b[39;00m \u001b[38;5;28;01mas\u001b[39;00m \u001b[38;5;21;01mnp\u001b[39;00m\n\u001b[0;32m      4\u001b[0m \u001b[38;5;28;01mimport\u001b[39;00m \u001b[38;5;21;01mmatplotlib\u001b[39;00m\u001b[38;5;21;01m.\u001b[39;00m\u001b[38;5;21;01mpyplot\u001b[39;00m \u001b[38;5;28;01mas\u001b[39;00m \u001b[38;5;21;01mplt\u001b[39;00m\n\u001b[1;32m----> 5\u001b[0m \u001b[38;5;28;01mfrom\u001b[39;00m \u001b[38;5;21;01medhec_risk_kit\u001b[39;00m \u001b[38;5;28;01mimport\u001b[39;00m \u001b[38;5;241m*\u001b[39m\n\u001b[0;32m      7\u001b[0m \u001b[38;5;66;03m# Load data\u001b[39;00m\n\u001b[0;32m      8\u001b[0m ffme_rets \u001b[38;5;241m=\u001b[39m get_ffme_returns()  \u001b[38;5;66;03m# French-Fama dataset\u001b[39;00m\n",
      "File \u001b[1;32mc:\\Users\\pietr\\Desktop\\Portfolio\\Portfolio\\FinApp\\edhec_risk_kit.py:5\u001b[0m, in \u001b[0;36m<module>\u001b[1;34m\u001b[0m\n\u001b[0;32m      3\u001b[0m \u001b[38;5;28;01mimport\u001b[39;00m \u001b[38;5;21;01mscipy\u001b[39;00m\u001b[38;5;21;01m.\u001b[39;00m\u001b[38;5;21;01mstats\u001b[39;00m\n\u001b[0;32m      4\u001b[0m \u001b[38;5;28;01mimport\u001b[39;00m \u001b[38;5;21;01mmatplotlib\u001b[39;00m\u001b[38;5;21;01m.\u001b[39;00m\u001b[38;5;21;01mpyplot\u001b[39;00m \u001b[38;5;28;01mas\u001b[39;00m \u001b[38;5;21;01mplt\u001b[39;00m\n\u001b[1;32m----> 5\u001b[0m \u001b[38;5;28;01mimport\u001b[39;00m \u001b[38;5;21;01mstatsmodels\u001b[39;00m\u001b[38;5;21;01m.\u001b[39;00m\u001b[38;5;21;01mapi\u001b[39;00m \u001b[38;5;28;01mas\u001b[39;00m \u001b[38;5;21;01msm\u001b[39;00m\n\u001b[0;32m      6\u001b[0m \u001b[38;5;28;01mfrom\u001b[39;00m \u001b[38;5;21;01mscipy\u001b[39;00m\u001b[38;5;21;01m.\u001b[39;00m\u001b[38;5;21;01moptimize\u001b[39;00m \u001b[38;5;28;01mimport\u001b[39;00m minimize\n\u001b[0;32m      7\u001b[0m \u001b[38;5;28;01mfrom\u001b[39;00m \u001b[38;5;21;01mnumpy\u001b[39;00m\u001b[38;5;21;01m.\u001b[39;00m\u001b[38;5;21;01mlinalg\u001b[39;00m \u001b[38;5;28;01mimport\u001b[39;00m inv\n",
      "\u001b[1;31mModuleNotFoundError\u001b[0m: No module named 'statsmodels'"
     ]
    }
   ],
   "source": [
    "# Import necessary libraries\n",
    "import pandas as pd\n",
    "import numpy as np\n",
    "import matplotlib.pyplot as plt\n",
    "from edhec_risk_kit import *\n",
    "\n",
    "# Load data\n",
    "ffme_rets = get_ffme_returns()  # French-Fama dataset\n",
    "hfi_rets = get_hfi_returns()    # EDHEC Hedge Fund Index\n",
    "\n",
    "# Combine the datasets\n",
    "rets = pd.concat([ffme_rets, hfi_rets], axis=1)\n",
    "print(\"First 5 rows of the combined dataset:\")\n",
    "print(rets.head())"
   ]
  },
  {
   "cell_type": "markdown",
   "metadata": {},
   "source": [
    "### Explanation of the Data\n",
    "\n",
    "- The **French-Fama dataset** contains returns for the **bottom decile (Lo 10)** and **top decile (Hi 10)** of US stocks based on market capitalization.\n",
    "- The **EDHEC Hedge Fund Index** contains returns for various hedge fund strategies.\n",
    "- By combining these datasets, we can create a diversified portfolio with both equity and hedge fund exposure.\n",
    "\n",
    "---\n",
    "\n",
    "## Step 2: Compute Annualized Returns and Covariance Matrix\n",
    "\n",
    "To construct the Efficient Frontier, we need to compute two key inputs:\n",
    "\n",
    "1. **Annualized Returns**: The average return of each asset, scaled to an annual basis.\n",
    "2. **Covariance Matrix**: A matrix that captures the volatility of each asset and their pairwise correlations.\n",
    "\n",
    "The **annualized return** for an asset is calculated as:\n",
    "\n",
    "\\[\n",
    "\\text{Annualized Return} = \\left( \\prod_{t=1}^{T} (1 + R_t) \\right)^{\\frac{n}{T}} - 1\n",
    "\\]\n",
    "\n",
    "where:\n",
    "- \\( R_t \\) is the return at time \\( t \\),\n",
    "- \\( T \\) is the total number of periods,\n",
    "- \\( n \\) is the number of periods in a year (e.g., 12 for monthly data).\n",
    "\n",
    "The **covariance matrix** \\( \\Sigma \\) is computed as:\n",
    "\n",
    "$$\\[\n",
    "\\Sigma_{ij} = \\text{Cov}(R_i, R_j)\n",
    "\\]$$\n",
    "\n",
    "where \\( R_i \\) and \\( R_j \\) are the returns of assets \\( i \\) and \\( j \\), respectively."
   ]
  },
  {
   "cell_type": "code",
   "execution_count": null,
   "metadata": {},
   "outputs": [],
   "source": [
    "# Compute annualized returns\n",
    "annual_rets = annualize_rets(rets, periods_per_year=12)\n",
    "\n",
    "# Compute covariance matrix\n",
    "cov_matrix = rets.cov()\n",
    "\n",
    "print(\"Annualized Returns:\")\n",
    "print(annual_rets)\n",
    "\n",
    "print(\"\\nCovariance Matrix:\")\n",
    "print(cov_matrix)"
   ]
  },
  {
   "cell_type": "markdown",
   "metadata": {},
   "source": [
    "# Explanation of the Output\n",
    "\n",
    "## Annualized Returns\n",
    "The **annualized returns** represent the expected yearly return for each asset. This metric helps investors understand the potential growth of their investments over a one-year period.\n",
    "\n",
    "## Covariance Matrix\n",
    "The **covariance matrix** illustrates how the returns of different assets move in relation to each other. \n",
    "\n",
    "- **Diagonal Elements**: These represent the **variance** of each asset, which measures the asset's individual volatility.\n",
    "- **Off-Diagonal Elements**: These represent the **covariance** between pairs of assets, indicating how the returns of two assets move together. A positive covariance means the assets tend to move in the same direction, while a negative covariance means they move in opposite directions.\n",
    "\n",
    "---\n",
    "\n",
    "# Step 3: Construct the Efficient Frontier\n",
    "\n",
    "The **Efficient Frontier** is a set of optimal portfolios that offer the highest expected return for a given level of risk (measured by standard deviation). To construct it, we follow these steps:\n",
    "\n",
    "1. **Generate a Range of Portfolio Weights**: We create various combinations of asset weights to form different portfolios.\n",
    "2. **Compute Expected Return and Volatility**: For each portfolio, we calculate:\n",
    "   - **Portfolio Return (Rp)**: The weighted average of the returns of the individual assets.\n",
    "   - **Portfolio Volatility (σp)**: The standard deviation of the portfolio's returns, which measures risk.\n",
    "3. **Plot the Results**: The Efficient Frontier is plotted by graphing the expected return against the portfolio volatility.\n",
    "\n",
    "---\n",
    "\n",
    "## Formulas\n",
    "\n",
    "### Portfolio Return (Rp)\n",
    "The portfolio return is calculated as:\n",
    "$$\n",
    "R_p = \\sum_{i=1}^{N} w_i \\cdot R_i\n",
    "$$\n",
    "Where:\n",
    "- \\( w_i \\) = weight of asset \\( i \\)\n",
    "- \\( R_i \\) = return of asset \\( i \\)\n",
    "- \\( N \\) = total number of assets\n",
    "\n",
    "### Portfolio Volatility (σp)\n",
    "The portfolio volatility is calculated as:\n",
    "$$\n",
    "\\sigma_p = \\sqrt{w^T \\Sigma w}\n",
    "$$\n",
    "Where:\n",
    "- \\( w \\) = vector of asset weights\n",
    "- \\( \\Sigma \\) = covariance matrix of asset returns\n",
    "- \\( w^T \\) = transpose of the weight vector\n",
    "\n",
    "---\n",
    "\n",
    "This process allows investors to identify the optimal mix of assets that maximizes returns for a given level of risk, forming the basis of modern portfolio theory."
   ]
  },
  {
   "cell_type": "code",
   "execution_count": null,
   "metadata": {},
   "outputs": [],
   "source": [
    "# Number of portfolios to simulate\n",
    "n_portfolios = 50\n",
    "\n",
    "# Generate the Efficient Frontier\n",
    "df, ax = efficient_frontier(\n",
    "    n_portfolios, rets, cov_matrix, periods_per_year=12, \n",
    "    risk_free_rate=0.03, iplot=True, hsr=True, mvp=True, ewp=True\n",
    ")\n",
    "\n",
    "# Highlight the Minimum Variance Portfolio (MVP)\n",
    "mvp = df.iloc[df['volatility'].idxmin()]\n",
    "print(\"\\nMinimum Variance Portfolio (MVP):\")\n",
    "print(mvp)\n",
    "\n",
    "# Highlight the Maximum Sharpe Ratio Portfolio (MSR)\n",
    "msr = df.iloc[df['sharpe ratio'].idxmax()]\n",
    "print(\"\\nMaximum Sharpe Ratio Portfolio (MSR):\")\n",
    "print(msr)\n",
    "\n",
    "# Plot the Efficient Frontier\n",
    "plt.title(\"Efficient Frontier\")\n",
    "plt.xlabel(\"Volatility (Annualized)\")\n",
    "plt.ylabel(\"Return (Annualized)\")\n",
    "plt.show()"
   ]
  },
  {
   "cell_type": "markdown",
   "metadata": {},
   "source": []
  },
  {
   "cell_type": "code",
   "execution_count": null,
   "metadata": {},
   "outputs": [],
   "source": [
    "# Compute terminal wealth for each portfolio\n",
    "mvp_wealth = terminal_wealth(rets @ mvp[3:])  # MVP weights start from index 3\n",
    "msr_wealth = terminal_wealth(rets @ msr[3:])  # MSR weights start from index 3\n",
    "ewp_weights = np.repeat(1/len(rets.columns), len(rets.columns))  # Equally weighted\n",
    "ewp_wealth = terminal_wealth(rets @ ewp_weights)\n",
    "\n",
    "print(\"Terminal Wealth:\")\n",
    "print(f\"MVP: {mvp_wealth:.2f}\")\n",
    "print(f\"MSR: {msr_wealth:.2f}\")\n",
    "print(f\"EWP: {ewp_wealth:.2f}\")"
   ]
  },
  {
   "cell_type": "markdown",
   "metadata": {},
   "source": []
  }
 ],
 "metadata": {
  "kernelspec": {
   "display_name": "Python 3",
   "language": "python",
   "name": "python3"
  },
  "language_info": {
   "codemirror_mode": {
    "name": "ipython",
    "version": 3
   },
   "file_extension": ".py",
   "mimetype": "text/x-python",
   "name": "python",
   "nbconvert_exporter": "python",
   "pygments_lexer": "ipython3",
   "version": "3.10.11"
  }
 },
 "nbformat": 4,
 "nbformat_minor": 2
}
